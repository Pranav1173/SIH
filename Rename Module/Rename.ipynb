{
 "cells": [
  {
   "cell_type": "code",
   "execution_count": 3,
   "id": "16dc51f6",
   "metadata": {},
   "outputs": [
    {
     "name": "stdout",
     "output_type": "stream",
     "text": [
      "DONE_Rename\n"
     ]
    }
   ],
   "source": [
    "import os\n",
    "\n",
    "# Set the path of the folder containing the images\n",
    "folder_path = \"C:\\\\Users\\\\prana\\\\Jupyter\\\\SIH\\\\DataSet\\\\Aloevera\"\n",
    "\n",
    "# Set the prefix you want to use for the new filenames\n",
    "prefix = 'Aloe'\n",
    "\n",
    "# Set a counter to keep track of the number of images\n",
    "count = 1\n",
    "\n",
    "# Loop through all the files in the folder\n",
    "for filename in os.listdir(folder_path):\n",
    "    # Check if the file is an image (you can modify this condition to suit your needs)\n",
    "    if filename.endswith('.jpg') or filename.endswith('.png') or filename.endswith('.jpeg'):\n",
    "        # Construct the new filename using the prefix and the counter\n",
    "        new_filename = prefix + str(count) + os.path.splitext(filename)[1]\n",
    "\n",
    "        # Construct the full path of the image\n",
    "        full_path = os.path.join(folder_path, filename)\n",
    "\n",
    "        # Construct the full path of the new image\n",
    "        new_full_path = os.path.join(folder_path, new_filename)\n",
    "\n",
    "        # Rename the image\n",
    "        os.rename(full_path, new_full_path)\n",
    "\n",
    "        # Increment the counter\n",
    "        count += 1\n",
    "        \n",
    "print(\"DONE_Rename\")"
   ]
  },
  {
   "cell_type": "code",
   "execution_count": 4,
   "id": "fe451773",
   "metadata": {},
   "outputs": [
    {
     "name": "stdout",
     "output_type": "stream",
     "text": [
      "DONE_Rename\n"
     ]
    }
   ],
   "source": [
    "import os\n",
    "\n",
    "# Set the path of the folder containing the images\n",
    "folder_path = \"C:\\\\Users\\\\prana\\\\Jupyter\\\\SIH\\\\DataSet\\\\Brahmi\"\n",
    "\n",
    "# Set the prefix you want to use for the new filenames\n",
    "prefix = 'Brahmi'\n",
    "\n",
    "# Set a counter to keep track of the number of images\n",
    "count = 1\n",
    "\n",
    "# Loop through all the files in the folder\n",
    "for filename in os.listdir(folder_path):\n",
    "    # Check if the file is an image (you can modify this condition to suit your needs)\n",
    "    if filename.endswith('.jpg') or filename.endswith('.png') or filename.endswith('.jpeg'):\n",
    "        # Construct the new filename using the prefix and the counter\n",
    "        new_filename = prefix + str(count) + os.path.splitext(filename)[1]\n",
    "\n",
    "        # Construct the full path of the image\n",
    "        full_path = os.path.join(folder_path, filename)\n",
    "\n",
    "        # Construct the full path of the new image\n",
    "        new_full_path = os.path.join(folder_path, new_filename)\n",
    "\n",
    "        # Rename the image\n",
    "        os.rename(full_path, new_full_path)\n",
    "\n",
    "        # Increment the counter\n",
    "        count += 1\n",
    "        \n",
    "print(\"DONE_Rename\")"
   ]
  },
  {
   "cell_type": "code",
   "execution_count": 5,
   "id": "9c009fe4",
   "metadata": {},
   "outputs": [
    {
     "name": "stdout",
     "output_type": "stream",
     "text": [
      "DONE_Rename\n"
     ]
    }
   ],
   "source": [
    "import os\n",
    "\n",
    "# Set the path of the folder containing the images\n",
    "folder_path = \"C:\\\\Users\\\\prana\\\\Jupyter\\\\SIH\\\\DataSet\\\\Datura\"\n",
    "\n",
    "# Set the prefix you want to use for the new filenames\n",
    "prefix = 'Datura'\n",
    "\n",
    "# Set a counter to keep track of the number of images\n",
    "count = 1\n",
    "\n",
    "# Loop through all the files in the folder\n",
    "for filename in os.listdir(folder_path):\n",
    "    # Check if the file is an image (you can modify this condition to suit your needs)\n",
    "    if filename.endswith('.jpg') or filename.endswith('.png') or filename.endswith('.jpeg'):\n",
    "        # Construct the new filename using the prefix and the counter\n",
    "        new_filename = prefix + str(count) + os.path.splitext(filename)[1]\n",
    "\n",
    "        # Construct the full path of the image\n",
    "        full_path = os.path.join(folder_path, filename)\n",
    "\n",
    "        # Construct the full path of the new image\n",
    "        new_full_path = os.path.join(folder_path, new_filename)\n",
    "\n",
    "        # Rename the image\n",
    "        os.rename(full_path, new_full_path)\n",
    "\n",
    "        # Increment the counter\n",
    "        count += 1\n",
    "        \n",
    "print(\"DONE_Rename\")"
   ]
  },
  {
   "cell_type": "code",
   "execution_count": 7,
   "id": "9e281268",
   "metadata": {},
   "outputs": [
    {
     "name": "stdout",
     "output_type": "stream",
     "text": [
      "DONE_Rename\n"
     ]
    }
   ],
   "source": [
    "import os\n",
    "\n",
    "# Set the path of the folder containing the images\n",
    "folder_path = \"C:\\\\Users\\\\prana\\\\Jupyter\\\\SIH\\\\DataSet\\\\Hibiscus\"\n",
    "\n",
    "# Set the prefix you want to use for the new filenames\n",
    "prefix = 'Hibiscus'\n",
    "\n",
    "# Set a counter to keep track of the number of images\n",
    "count = 1\n",
    "\n",
    "# Loop through all the files in the folder\n",
    "for filename in os.listdir(folder_path):\n",
    "    # Check if the file is an image (you can modify this condition to suit your needs)\n",
    "    if filename.endswith('.jpg') or filename.endswith('.png') or filename.endswith('.jpeg'):\n",
    "        # Construct the new filename using the prefix and the counter\n",
    "        new_filename = prefix + str(count) + os.path.splitext(filename)[1]\n",
    "\n",
    "        # Construct the full path of the image\n",
    "        full_path = os.path.join(folder_path, filename)\n",
    "\n",
    "        # Construct the full path of the new image\n",
    "        new_full_path = os.path.join(folder_path, new_filename)\n",
    "\n",
    "        # Rename the image\n",
    "        os.rename(full_path, new_full_path)\n",
    "\n",
    "        # Increment the counter\n",
    "        count += 1\n",
    "        \n",
    "print(\"DONE_Rename\")"
   ]
  },
  {
   "cell_type": "code",
   "execution_count": 8,
   "id": "a36c2322",
   "metadata": {},
   "outputs": [
    {
     "name": "stdout",
     "output_type": "stream",
     "text": [
      "DONE_Rename\n"
     ]
    }
   ],
   "source": [
    "import os\n",
    "\n",
    "# Set the path of the folder containing the images\n",
    "folder_path = \"C:\\\\Users\\\\prana\\\\Jupyter\\\\SIH\\\\DataSet\\\\IndianOlive\"\n",
    "\n",
    "# Set the prefix you want to use for the new filenames\n",
    "prefix = 'Olive'\n",
    "\n",
    "# Set a counter to keep track of the number of images\n",
    "count = 1\n",
    "\n",
    "# Loop through all the files in the folder\n",
    "for filename in os.listdir(folder_path):\n",
    "    # Check if the file is an image (you can modify this condition to suit your needs)\n",
    "    if filename.endswith('.jpg') or filename.endswith('.png') or filename.endswith('.jpeg'):\n",
    "        # Construct the new filename using the prefix and the counter\n",
    "        new_filename = prefix + str(count) + os.path.splitext(filename)[1]\n",
    "\n",
    "        # Construct the full path of the image\n",
    "        full_path = os.path.join(folder_path, filename)\n",
    "\n",
    "        # Construct the full path of the new image\n",
    "        new_full_path = os.path.join(folder_path, new_filename)\n",
    "\n",
    "        # Rename the image\n",
    "        os.rename(full_path, new_full_path)\n",
    "\n",
    "        # Increment the counter\n",
    "        count += 1\n",
    "        \n",
    "print(\"DONE_Rename\")"
   ]
  },
  {
   "cell_type": "code",
   "execution_count": 9,
   "id": "d03b354d",
   "metadata": {},
   "outputs": [
    {
     "name": "stdout",
     "output_type": "stream",
     "text": [
      "DONE_Rename\n"
     ]
    }
   ],
   "source": [
    "import os\n",
    "\n",
    "# Set the path of the folder containing the images\n",
    "folder_path = \"C:\\\\Users\\\\prana\\\\Jupyter\\\\SIH\\\\DataSet\\\\Malabarleaf\"\n",
    "\n",
    "# Set the prefix you want to use for the new filenames\n",
    "prefix = 'Malabarleaf'\n",
    "\n",
    "# Set a counter to keep track of the number of images\n",
    "count = 1\n",
    "\n",
    "# Loop through all the files in the folder\n",
    "for filename in os.listdir(folder_path):\n",
    "    # Check if the file is an image (you can modify this condition to suit your needs)\n",
    "    if filename.endswith('.jpg') or filename.endswith('.png') or filename.endswith('.jpeg'):\n",
    "        # Construct the new filename using the prefix and the counter\n",
    "        new_filename = prefix + str(count) + os.path.splitext(filename)[1]\n",
    "\n",
    "        # Construct the full path of the image\n",
    "        full_path = os.path.join(folder_path, filename)\n",
    "\n",
    "        # Construct the full path of the new image\n",
    "        new_full_path = os.path.join(folder_path, new_filename)\n",
    "\n",
    "        # Rename the image\n",
    "        os.rename(full_path, new_full_path)\n",
    "\n",
    "        # Increment the counter\n",
    "        count += 1\n",
    "        \n",
    "print(\"DONE_Rename\")"
   ]
  },
  {
   "cell_type": "code",
   "execution_count": 10,
   "id": "876a3cd8",
   "metadata": {},
   "outputs": [
    {
     "name": "stdout",
     "output_type": "stream",
     "text": [
      "DONE_Rename\n"
     ]
    }
   ],
   "source": [
    "import os\n",
    "\n",
    "# Set the path of the folder containing the images\n",
    "folder_path = \"C:\\\\Users\\\\prana\\\\Jupyter\\\\SIH\\\\DataSet\\\\Pepper\"\n",
    "\n",
    "# Set the prefix you want to use for the new filenames\n",
    "prefix = 'Pepper'\n",
    "\n",
    "# Set a counter to keep track of the number of images\n",
    "count = 1\n",
    "\n",
    "# Loop through all the files in the folder\n",
    "for filename in os.listdir(folder_path):\n",
    "    # Check if the file is an image (you can modify this condition to suit your needs)\n",
    "    if filename.endswith('.jpg') or filename.endswith('.png') or filename.endswith('.jpeg'):\n",
    "        # Construct the new filename using the prefix and the counter\n",
    "        new_filename = prefix + str(count) + os.path.splitext(filename)[1]\n",
    "\n",
    "        # Construct the full path of the image\n",
    "        full_path = os.path.join(folder_path, filename)\n",
    "\n",
    "        # Construct the full path of the new image\n",
    "        new_full_path = os.path.join(folder_path, new_filename)\n",
    "\n",
    "        # Rename the image\n",
    "        os.rename(full_path, new_full_path)\n",
    "\n",
    "        # Increment the counter\n",
    "        count += 1\n",
    "        \n",
    "print(\"DONE_Rename\")"
   ]
  },
  {
   "cell_type": "code",
   "execution_count": 11,
   "id": "362689c6",
   "metadata": {},
   "outputs": [
    {
     "name": "stdout",
     "output_type": "stream",
     "text": [
      "DONE_Rename\n"
     ]
    }
   ],
   "source": [
    "import os\n",
    "\n",
    "# Set the path of the folder containing the images\n",
    "folder_path = \"C:\\\\Users\\\\prana\\\\Jupyter\\\\SIH\\\\DataSet\\\\Sandalwood\"\n",
    "\n",
    "# Set the prefix you want to use for the new filenames\n",
    "prefix = 'Sandalwood'\n",
    "\n",
    "# Set a counter to keep track of the number of images\n",
    "count = 1\n",
    "\n",
    "# Loop through all the files in the folder\n",
    "for filename in os.listdir(folder_path):\n",
    "    # Check if the file is an image (you can modify this condition to suit your needs)\n",
    "    if filename.endswith('.jpg') or filename.endswith('.png') or filename.endswith('.jpeg'):\n",
    "        # Construct the new filename using the prefix and the counter\n",
    "        new_filename = prefix + str(count) + os.path.splitext(filename)[1]\n",
    "\n",
    "        # Construct the full path of the image\n",
    "        full_path = os.path.join(folder_path, filename)\n",
    "\n",
    "        # Construct the full path of the new image\n",
    "        new_full_path = os.path.join(folder_path, new_filename)\n",
    "\n",
    "        # Rename the image\n",
    "        os.rename(full_path, new_full_path)\n",
    "\n",
    "        # Increment the counter\n",
    "        count += 1\n",
    "        \n",
    "print(\"DONE_Rename\")"
   ]
  },
  {
   "cell_type": "code",
   "execution_count": 12,
   "id": "4ff42e74",
   "metadata": {},
   "outputs": [
    {
     "name": "stdout",
     "output_type": "stream",
     "text": [
      "DONE_Rename\n"
     ]
    }
   ],
   "source": [
    "import os\n",
    "\n",
    "# Set the path of the folder containing the images\n",
    "folder_path = \"C:\\\\Users\\\\prana\\\\Jupyter\\\\SIH\\\\DataSet\\\\Tulsi\"\n",
    "\n",
    "# Set the prefix you want to use for the new filenames\n",
    "prefix = 'Tulsi'\n",
    "\n",
    "# Set a counter to keep track of the number of images\n",
    "count = 1\n",
    "\n",
    "# Loop through all the files in the folder\n",
    "for filename in os.listdir(folder_path):\n",
    "    # Check if the file is an image (you can modify this condition to suit your needs)\n",
    "    if filename.endswith('.jpg') or filename.endswith('.png') or filename.endswith('.jpeg'):\n",
    "        # Construct the new filename using the prefix and the counter\n",
    "        new_filename = prefix + str(count) + os.path.splitext(filename)[1]\n",
    "\n",
    "        # Construct the full path of the image\n",
    "        full_path = os.path.join(folder_path, filename)\n",
    "\n",
    "        # Construct the full path of the new image\n",
    "        new_full_path = os.path.join(folder_path, new_filename)\n",
    "\n",
    "        # Rename the image\n",
    "        os.rename(full_path, new_full_path)\n",
    "\n",
    "        # Increment the counter\n",
    "        count += 1\n",
    "        \n",
    "print(\"DONE_Rename\")"
   ]
  },
  {
   "cell_type": "code",
   "execution_count": 13,
   "id": "36eab8d5",
   "metadata": {},
   "outputs": [
    {
     "name": "stdout",
     "output_type": "stream",
     "text": [
      "DONE_Rename\n"
     ]
    }
   ],
   "source": [
    "import os\n",
    "\n",
    "# Set the path of the folder containing the images\n",
    "folder_path = \"C:\\\\Users\\\\prana\\\\Jupyter\\\\SIH\\\\DataSet\\\\Turmeric\"\n",
    "\n",
    "# Set the prefix you want to use for the new filenames\n",
    "prefix = 'Turmeric'\n",
    "\n",
    "# Set a counter to keep track of the number of images\n",
    "count = 1\n",
    "\n",
    "# Loop through all the files in the folder\n",
    "for filename in os.listdir(folder_path):\n",
    "    # Check if the file is an image (you can modify this condition to suit your needs)\n",
    "    if filename.endswith('.jpg') or filename.endswith('.png') or filename.endswith('.jpeg'):\n",
    "        # Construct the new filename using the prefix and the counter\n",
    "        new_filename = prefix + str(count) + os.path.splitext(filename)[1]\n",
    "\n",
    "        # Construct the full path of the image\n",
    "        full_path = os.path.join(folder_path, filename)\n",
    "\n",
    "        # Construct the full path of the new image\n",
    "        new_full_path = os.path.join(folder_path, new_filename)\n",
    "\n",
    "        # Rename the image\n",
    "        os.rename(full_path, new_full_path)\n",
    "\n",
    "        # Increment the counter\n",
    "        count += 1\n",
    "        \n",
    "print(\"DONE_Rename\")"
   ]
  },
  {
   "cell_type": "code",
   "execution_count": null,
   "id": "cf2b8949",
   "metadata": {},
   "outputs": [],
   "source": []
  }
 ],
 "metadata": {
  "kernelspec": {
   "display_name": "Python 3 (ipykernel)",
   "language": "python",
   "name": "python3"
  },
  "language_info": {
   "codemirror_mode": {
    "name": "ipython",
    "version": 3
   },
   "file_extension": ".py",
   "mimetype": "text/x-python",
   "name": "python",
   "nbconvert_exporter": "python",
   "pygments_lexer": "ipython3",
   "version": "3.11.3"
  }
 },
 "nbformat": 4,
 "nbformat_minor": 5
}
